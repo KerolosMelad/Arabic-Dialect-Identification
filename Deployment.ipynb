{
 "cells": [
  {
   "cell_type": "markdown",
   "id": "6a4438df-148a-4033-9784-b9b3457cf4a5",
   "metadata": {},
   "source": [
    "# Deployment\n",
    "This notebook contains \n",
    "\n",
    "Local Deployment of The pre-trained RNN model. \n",
    "\n",
    "Backend is implemented with flask, Frontends with HTML, CSS"
   ]
  },
  {
   "cell_type": "code",
   "execution_count": 2,
   "id": "15b6d865-1f9a-4830-92e9-c2817b9adad7",
   "metadata": {},
   "outputs": [
    {
     "name": "stdout",
     "output_type": "stream",
     "text": [
      " * Serving Flask app '__main__' (lazy loading)\n",
      " * Environment: production\n",
      "\u001b[31m   WARNING: This is a development server. Do not use it in a production deployment.\u001b[0m\n",
      "\u001b[2m   Use a production WSGI server instead.\u001b[0m\n",
      " * Debug mode: off\n"
     ]
    },
    {
     "name": "stderr",
     "output_type": "stream",
     "text": [
      " * Running on http://127.0.0.1:5000/ (Press CTRL+C to quit)\n",
      "127.0.0.1 - - [10/Mar/2022 19:03:23] \"GET / HTTP/1.1\" 200 -\n",
      "127.0.0.1 - - [10/Mar/2022 19:03:27] \"POST /predict HTTP/1.1\" 200 -\n",
      "127.0.0.1 - - [10/Mar/2022 19:05:02] \"POST /predict HTTP/1.1\" 200 -\n",
      "127.0.0.1 - - [10/Mar/2022 19:06:22] \"POST /predict HTTP/1.1\" 200 -\n",
      "127.0.0.1 - - [10/Mar/2022 19:06:52] \"POST /predict HTTP/1.1\" 200 -\n",
      "127.0.0.1 - - [10/Mar/2022 19:06:54] \"POST /predict HTTP/1.1\" 200 -\n",
      "127.0.0.1 - - [10/Mar/2022 19:07:25] \"POST /predict HTTP/1.1\" 200 -\n",
      "127.0.0.1 - - [10/Mar/2022 19:07:47] \"POST /predict HTTP/1.1\" 200 -\n"
     ]
    }
   ],
   "source": [
    "import numpy as np\n",
    "from flask import Flask, request, jsonify, render_template\n",
    "import pickle\n",
    "from  Utils import Put_In_shape ,Prediction_In_shape\n",
    "import tensorflow as tf\n",
    "import numpy as np\n",
    "\n",
    "RNN_model = tf.keras.models.load_model('Best_RecurrentNeuralNetwork')\n",
    "\n",
    "flask_app = Flask(__name__)\n",
    "\n",
    "@flask_app.route(\"/\")\n",
    "def Home():\n",
    "    return render_template(\"index.html\")\n",
    "\n",
    "\n",
    "@flask_app.route(\"/predict\", methods = [\"POST\"])\n",
    "def predict():\n",
    "    sentence =[request.form['sentence']]\n",
    "    sentence = Put_In_shape(sentence)\n",
    "    predection = RNN_model.predict(sentence)\n",
    "    c1 ,c2 ,c3, c4 , v1,v2,v3,v4=Prediction_In_shape(predection[0])\n",
    "    \n",
    "    return render_template(\"index.html\" , answer = c1 ,c1=c1 ,c2= c2 ,c3 = c3, c4= c4 , v1 = v1,v2 = v2,v3 = v3,v4 = v4 )\n",
    "\n",
    "\n",
    "if __name__ == \"__main__\":\n",
    "    flask_app.run(debug=False)"
   ]
  },
  {
   "cell_type": "code",
   "execution_count": null,
   "id": "6ddb5b6b-a18c-43db-92ef-7c194239e3da",
   "metadata": {},
   "outputs": [],
   "source": []
  },
  {
   "cell_type": "code",
   "execution_count": null,
   "id": "9efc49c4-598d-407f-aeac-d939b9760b6a",
   "metadata": {},
   "outputs": [],
   "source": []
  },
  {
   "cell_type": "code",
   "execution_count": null,
   "id": "6f5ea4e9-8093-4f4d-9625-5d7f5d8d8f4b",
   "metadata": {},
   "outputs": [],
   "source": []
  },
  {
   "cell_type": "code",
   "execution_count": null,
   "id": "aa6e4ffb-36b7-4674-848c-8dda33ccfbc6",
   "metadata": {},
   "outputs": [],
   "source": []
  },
  {
   "cell_type": "code",
   "execution_count": null,
   "id": "8241b929-0e50-4888-bd72-fd11f7136ac3",
   "metadata": {},
   "outputs": [],
   "source": []
  },
  {
   "cell_type": "code",
   "execution_count": null,
   "id": "579a8709-f3e0-43a4-8a04-2f0c1e395d25",
   "metadata": {},
   "outputs": [],
   "source": []
  },
  {
   "cell_type": "code",
   "execution_count": null,
   "id": "63ea7f0e-b8d1-4104-9d3e-e9254de5f9e0",
   "metadata": {},
   "outputs": [],
   "source": []
  },
  {
   "cell_type": "code",
   "execution_count": null,
   "id": "8c0379de-8f4d-4dec-b267-a6c48d2e97ed",
   "metadata": {},
   "outputs": [],
   "source": []
  },
  {
   "cell_type": "code",
   "execution_count": null,
   "id": "74d541b4-09d5-4153-88cd-8409d02b889e",
   "metadata": {},
   "outputs": [],
   "source": []
  },
  {
   "cell_type": "code",
   "execution_count": null,
   "id": "2479829d-fa1e-4b74-8490-9aaac640ec31",
   "metadata": {},
   "outputs": [],
   "source": []
  },
  {
   "cell_type": "code",
   "execution_count": null,
   "id": "fbeb272b-49bb-4bc5-aae0-930bfe38dfc4",
   "metadata": {},
   "outputs": [],
   "source": []
  },
  {
   "cell_type": "code",
   "execution_count": null,
   "id": "ffd1c92c-57aa-48c2-93fb-a3abcc501e97",
   "metadata": {},
   "outputs": [],
   "source": []
  },
  {
   "cell_type": "code",
   "execution_count": null,
   "id": "95bcd335-7c2f-4220-82f3-f0a6a984b16b",
   "metadata": {},
   "outputs": [],
   "source": []
  },
  {
   "cell_type": "code",
   "execution_count": null,
   "id": "e0098fe9-fca3-4796-8d11-c57b7420b108",
   "metadata": {},
   "outputs": [],
   "source": []
  },
  {
   "cell_type": "code",
   "execution_count": null,
   "id": "74ffb2f4-7ed3-4437-8bbd-28e3b7814008",
   "metadata": {},
   "outputs": [],
   "source": []
  }
 ],
 "metadata": {
  "kernelspec": {
   "display_name": "Python 3",
   "language": "python",
   "name": "python3"
  },
  "language_info": {
   "codemirror_mode": {
    "name": "ipython",
    "version": 3
   },
   "file_extension": ".py",
   "mimetype": "text/x-python",
   "name": "python",
   "nbconvert_exporter": "python",
   "pygments_lexer": "ipython3",
   "version": "3.8.11"
  }
 },
 "nbformat": 4,
 "nbformat_minor": 5
}
