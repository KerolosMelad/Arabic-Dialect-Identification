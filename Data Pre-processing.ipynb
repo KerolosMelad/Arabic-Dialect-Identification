{
 "cells": [
  {
   "cell_type": "markdown",
   "id": "3ddf01d9-3cb2-4ad4-aa38-1acbb8b09fc4",
   "metadata": {},
   "source": [
    "# Data Pre-processing\n",
    "This notebook contains :\n",
    "\n",
    "1- **Data Visualization**\n",
    "\n",
    "2- **Data Analysis**\n",
    "\n",
    "3- **Tweets Cleaning**\n",
    "\n",
    "4- **Label Encoding**\n",
    "\n",
    "5- **Features Extraction**\n",
    "\n",
    "<hr style=\"border:2px solid black\"> </hr>"
   ]
  },
  {
   "cell_type": "markdown",
   "id": "bd758a4a-03c4-4192-b364-7674ba3b0014",
   "metadata": {},
   "source": [
    "Importing Packages"
   ]
  },
  {
   "cell_type": "code",
   "execution_count": 1,
   "id": "0e245665-14d9-400d-91e4-0321dcc0516a",
   "metadata": {},
   "outputs": [],
   "source": [
    "import pandas as pd\n",
    "import seaborn as sns\n",
    "import nltk\n",
    "import re\n",
    "import matplotlib.pyplot as plt\n",
    "from nltk.corpus import stopwords\n",
    "import string\n",
    "from sklearn import preprocessing\n",
    "from collections import Counter \n",
    "from sklearn.feature_extraction.text import TfidfVectorizer\n",
    "import numpy as np "
   ]
  },
  {
   "cell_type": "code",
   "execution_count": 2,
   "id": "38fcca62-4079-4b47-a83d-18742461b6fd",
   "metadata": {},
   "outputs": [],
   "source": [
    "tweets_dialect_df = pd.read_csv('tweets_dialect_dataset.csv')"
   ]
  },
  {
   "cell_type": "code",
   "execution_count": 3,
   "id": "88b7ea7e-520a-412b-b6ad-9bb062354c3a",
   "metadata": {},
   "outputs": [
    {
     "data": {
      "text/plain": [
       "array(['IQ', 'LY', 'QA', 'PL', 'SY', 'TN', 'JO', 'MA', 'SA', 'YE', 'DZ',\n",
       "       'EG', 'LB', 'KW', 'OM', 'SD', 'AE', 'BH'], dtype=object)"
      ]
     },
     "execution_count": 3,
     "metadata": {},
     "output_type": "execute_result"
    }
   ],
   "source": [
    "tweets_dialect_df['dialect'].unique()"
   ]
  },
  {
   "cell_type": "code",
   "execution_count": 4,
   "id": "414cbb90-f7f3-46d7-9f98-1588d1d7e57a",
   "metadata": {},
   "outputs": [
    {
     "data": {
      "text/plain": [
       "Text(0.5, 1.0, 'Number of tweets per dialect')"
      ]
     },
     "execution_count": 4,
     "metadata": {},
     "output_type": "execute_result"
    },
    {
     "data": {
      "image/png": "[encoded data removed]",
      "text/plain": [
       "<Figure size 720x576 with 1 Axes>"
      ]
     },
     "metadata": {
      "needs_background": "light"
     },
     "output_type": "display_data"
    }
   ],
   "source": [
    "plt.figure(figsize=(10,8))\n",
    "sns.barplot(x = tweets_dialect_df['dialect'].value_counts().index ,y =tweets_dialect_df['dialect'].value_counts().values)\n",
    "plt.xlabel('dialect')\n",
    "plt.title('Number of tweets per dialect')"
   ]
  },
  {
   "cell_type": "markdown",
   "id": "d210a309-1cb0-4d52-b2c3-ea2ebf7485ac",
   "metadata": {},
   "source": [
    "As seen in the figure, The data is imbalanced\n",
    "\n",
    "In general, 2 techniques can be used in imbalncde data\n",
    "\n",
    "1- undersampling the classes with the highes number of tweets ... \"not preferable for me to lose data\"\n",
    "\n",
    "2- oversampling the classes with the lowest number of tweets .. \" will be a good solution but while extracting features the data will be pretty huge \"\n",
    "\n",
    "So I decided to leave it as it is, then I will use f1-score accuracy metrics"
   ]
  },
  {
   "cell_type": "code",
   "execution_count": null,
   "id": "bb337c2b-a8d2-4f71-832e-aa46825c916a",
   "metadata": {},
   "outputs": [],
   "source": []
  },
  {
   "cell_type": "code",
   "execution_count": null,
   "id": "08067818-7720-4ca1-b57c-bcfe719ab0aa",
   "metadata": {},
   "outputs": [],
   "source": []
  },
  {
   "cell_type": "code",
   "execution_count": 5,
   "id": "c2371ed8-92bf-4886-9eb5-082bd5432967",
   "metadata": {},
   "outputs": [
    {
     "data": {
      "text/plain": [
       "tweet      0\n",
       "dialect    0\n",
       "dtype: int64"
      ]
     },
     "execution_count": 5,
     "metadata": {},
     "output_type": "execute_result"
    }
   ],
   "source": [
    "(tweets_dialect_df.isna()).sum()"
   ]
  },
  {
   "cell_type": "code",
   "execution_count": 6,
   "id": "2d16bab6-2073-4d57-a997-eeacad615ab0",
   "metadata": {},
   "outputs": [
    {
     "data": {
      "text/html": [
       "<div>\n",
       "<style scoped>\n",
       "    .dataframe tbody tr th:only-of-type {\n",
       "        vertical-align: middle;\n",
       "    }\n",
       "\n",
       "    .dataframe tbody tr th {\n",
       "        vertical-align: top;\n",
       "    }\n",
       "\n",
       "    .dataframe thead th {\n",
       "        text-align: right;\n",
       "    }\n",
       "</style>\n",
       "<table border=\"1\" class=\"dataframe\">\n",
       "  <thead>\n",
       "    <tr style=\"text-align: right;\">\n",
       "      <th></th>\n",
       "      <th>tweet</th>\n",
       "      <th>dialect</th>\n",
       "    </tr>\n",
       "  </thead>\n",
       "  <tbody>\n",
       "    <tr>\n",
       "      <th>0</th>\n",
       "      <td>@Nw8ieJUwaCAAreT لكن بالنهاية .. ينتفض .. يغير .</td>\n",
       "      <td>IQ</td>\n",
       "    </tr>\n",
       "    <tr>\n",
       "      <th>1</th>\n",
       "      <td>@7zNqXP0yrODdRjK يعني هذا محسوب على البشر .. ح...</td>\n",
       "      <td>IQ</td>\n",
       "    </tr>\n",
       "    <tr>\n",
       "      <th>2</th>\n",
       "      <td>@KanaanRema مبين من كلامه خليجي</td>\n",
       "      <td>IQ</td>\n",
       "    </tr>\n",
       "    <tr>\n",
       "      <th>3</th>\n",
       "      <td>@HAIDER76128900 يسلملي مرورك وروحك الحلوه💐</td>\n",
       "      <td>IQ</td>\n",
       "    </tr>\n",
       "    <tr>\n",
       "      <th>4</th>\n",
       "      <td>@hmo2406 وين هل الغيبه  اخ محمد 🌸🌺</td>\n",
       "      <td>IQ</td>\n",
       "    </tr>\n",
       "    <tr>\n",
       "      <th>5</th>\n",
       "      <td>@Badi9595 @KanaanRema يااخي الإرهابي اذا كان ع...</td>\n",
       "      <td>IQ</td>\n",
       "    </tr>\n",
       "    <tr>\n",
       "      <th>6</th>\n",
       "      <td>@SarahNadhum90 @nUBNTdfVgACYQxV مطلبي يقدم است...</td>\n",
       "      <td>IQ</td>\n",
       "    </tr>\n",
       "    <tr>\n",
       "      <th>7</th>\n",
       "      <td>@KanaanRema @Badi9595 خلص والله لعيونكم انا ما...</td>\n",
       "      <td>IQ</td>\n",
       "    </tr>\n",
       "    <tr>\n",
       "      <th>8</th>\n",
       "      <td>@SalahAlarbawi يمكن سؤال فات الكثير اللي يصور ...</td>\n",
       "      <td>IQ</td>\n",
       "    </tr>\n",
       "    <tr>\n",
       "      <th>9</th>\n",
       "      <td>@Eng_alow91 @cb4LwpWrS1hT5lb @EdyCohen اولا ان...</td>\n",
       "      <td>IQ</td>\n",
       "    </tr>\n",
       "    <tr>\n",
       "      <th>10</th>\n",
       "      <td>@kamal1277New والله هذا الموضوع جداً حساس ويحي...</td>\n",
       "      <td>IQ</td>\n",
       "    </tr>\n",
       "    <tr>\n",
       "      <th>11</th>\n",
       "      <td>@cb4LwpWrS1hT5lb لا ان شاء الله اخوه يجمعنه ال...</td>\n",
       "      <td>IQ</td>\n",
       "    </tr>\n",
       "    <tr>\n",
       "      <th>12</th>\n",
       "      <td>@QSHRXxV36EfuNXV يسعد مساك سيد الحرف الحزين 🌷🙏🌹</td>\n",
       "      <td>IQ</td>\n",
       "    </tr>\n",
       "    <tr>\n",
       "      <th>13</th>\n",
       "      <td>@3Obeidi ههههه عدوله گلبه ورم من عدنه .. گلك خ...</td>\n",
       "      <td>IQ</td>\n",
       "    </tr>\n",
       "    <tr>\n",
       "      <th>14</th>\n",
       "      <td>@0b9lxe0ZNEUlnQm يسلملي مرورك 🌺روعات تواصلك🌷</td>\n",
       "      <td>IQ</td>\n",
       "    </tr>\n",
       "    <tr>\n",
       "      <th>15</th>\n",
       "      <td>@aaddssfr يسعد مساك بنت العم 🌸</td>\n",
       "      <td>IQ</td>\n",
       "    </tr>\n",
       "    <tr>\n",
       "      <th>16</th>\n",
       "      <td>@ha___m___ed مااخذ اي بشر وحدي 😂</td>\n",
       "      <td>IQ</td>\n",
       "    </tr>\n",
       "    <tr>\n",
       "      <th>17</th>\n",
       "      <td>@kamal1277New اتركه فتره اذا ماسأل مايستحق اهت...</td>\n",
       "      <td>IQ</td>\n",
       "    </tr>\n",
       "    <tr>\n",
       "      <th>18</th>\n",
       "      <td>@sfer661 يأكلون بخيرنه ويهينون  موظفينه ..</td>\n",
       "      <td>IQ</td>\n",
       "    </tr>\n",
       "    <tr>\n",
       "      <th>19</th>\n",
       "      <td>@QSHRXxV36EfuNXV عباله يرجع صدام حسين للحكم</td>\n",
       "      <td>IQ</td>\n",
       "    </tr>\n",
       "  </tbody>\n",
       "</table>\n",
       "</div>"
      ],
      "text/plain": [
       "                                                tweet dialect\n",
       "0    @Nw8ieJUwaCAAreT لكن بالنهاية .. ينتفض .. يغير .      IQ\n",
       "1   @7zNqXP0yrODdRjK يعني هذا محسوب على البشر .. ح...      IQ\n",
       "2                     @KanaanRema مبين من كلامه خليجي      IQ\n",
       "3          @HAIDER76128900 يسلملي مرورك وروحك الحلوه💐      IQ\n",
       "4                  @hmo2406 وين هل الغيبه  اخ محمد 🌸🌺      IQ\n",
       "5   @Badi9595 @KanaanRema يااخي الإرهابي اذا كان ع...      IQ\n",
       "6   @SarahNadhum90 @nUBNTdfVgACYQxV مطلبي يقدم است...      IQ\n",
       "7   @KanaanRema @Badi9595 خلص والله لعيونكم انا ما...      IQ\n",
       "8   @SalahAlarbawi يمكن سؤال فات الكثير اللي يصور ...      IQ\n",
       "9   @Eng_alow91 @cb4LwpWrS1hT5lb @EdyCohen اولا ان...      IQ\n",
       "10  @kamal1277New والله هذا الموضوع جداً حساس ويحي...      IQ\n",
       "11  @cb4LwpWrS1hT5lb لا ان شاء الله اخوه يجمعنه ال...      IQ\n",
       "12    @QSHRXxV36EfuNXV يسعد مساك سيد الحرف الحزين 🌷🙏🌹      IQ\n",
       "13  @3Obeidi ههههه عدوله گلبه ورم من عدنه .. گلك خ...      IQ\n",
       "14       @0b9lxe0ZNEUlnQm يسلملي مرورك 🌺روعات تواصلك🌷      IQ\n",
       "15                     @aaddssfr يسعد مساك بنت العم 🌸      IQ\n",
       "16                   @ha___m___ed مااخذ اي بشر وحدي 😂      IQ\n",
       "17  @kamal1277New اتركه فتره اذا ماسأل مايستحق اهت...      IQ\n",
       "18         @sfer661 يأكلون بخيرنه ويهينون  موظفينه ..      IQ\n",
       "19        @QSHRXxV36EfuNXV عباله يرجع صدام حسين للحكم      IQ"
      ]
     },
     "execution_count": 6,
     "metadata": {},
     "output_type": "execute_result"
    }
   ],
   "source": [
    "tweets_dialect_df.head(20)"
   ]
  },
  {
   "cell_type": "markdown",
   "id": "5073236b-d6de-4e28-8cb6-dff99418fc34",
   "metadata": {},
   "source": [
    "**tweet Cleaning**"
   ]
  },
  {
   "cell_type": "markdown",
   "id": "f60933cb-63a2-4307-96f2-6b37453c489f",
   "metadata": {},
   "source": [
    "Removing Emojis and symobles from tweets"
   ]
  },
  {
   "cell_type": "code",
   "execution_count": 7,
   "id": "8992a209-f252-4398-8696-06b784ea73ff",
   "metadata": {},
   "outputs": [],
   "source": [
    "emoji_pattern = re.compile(\"[\"\n",
    "        u\"\\U0001F600-\\U0001F64F\"  # emoticons\n",
    "        u\"\\U0001F300-\\U0001F5FF\"  # symbols & pictographs\n",
    "        u\"\\U0001F680-\\U0001F6FF\"  # transport & map symbols\n",
    "        u\"\\U0001F1E0-\\U0001F1FF\"  # flags (iOS)\n",
    "        u\"\\U00002500-\\U00002BEF\"  # chinese char\n",
    "        u\"\\U00002702-\\U000027B0\"\n",
    "        u\"\\U00002702-\\U000027B0\"\n",
    "        u\"\\U000024C2-\\U0001F251\"\n",
    "        u\"\\U0001f926-\\U0001f937\"\n",
    "        u\"\\U00010000-\\U0010ffff\"\n",
    "        u\"\\u2640-\\u2642\" \n",
    "        u\"\\u2600-\\u2B55\"\n",
    "        u\"\\u200d\"\n",
    "        u\"\\u23cf\"\n",
    "        u\"\\u23e9\"\n",
    "        u\"\\u231a\"\n",
    "        u\"\\ufe0f\"  # dingbats\n",
    "        u\"\\u3030\"\n",
    "        u\"\\u2069\" \n",
    "        u\"\\u2066\"\n",
    "        u\"\\u200b\"\n",
    "                      \"]+\", re.UNICODE)\n",
    "\n",
    "def regex_manupilation(tweet):\n",
    "    tweet = re.sub(r\"(?:\\@|http?\\://|https?\\://|www)\\S+\", \"\", tweet) #Remove http links\n",
    "    tweet = re.sub(r'[0-9]+', '', tweet) # delete numbers\n",
    "    tweet = re.sub(r'&amp;|&quot;|&gt;', '', tweet) # delete html components\n",
    "    #tweet =re.sub(r'(.)\\1+', r'\\1', tweet)\n",
    "    tweet = re.sub(r'\\s*[A-Za-z]+\\b', '' , tweet) # delete english words \n",
    "    tweet = emoji_pattern.sub('', tweet)  #Remove Emojis\n",
    "    tweet = tweet.replace(\"#\", \"\").replace(\"_\", \" \") #Remove hashtag sign but keep the text\n",
    "    return tweet"
   ]
  },
  {
   "cell_type": "code",
   "execution_count": 8,
   "id": "f3a85ac7-f031-4b7a-9321-dd3baa888267",
   "metadata": {},
   "outputs": [
    {
     "data": {
      "text/plain": [
       "'كيرو          ماشيين ليرننج '"
      ]
     },
     "execution_count": 8,
     "metadata": {},
     "output_type": "execute_result"
    }
   ],
   "source": [
    "regex_manupilation('كيرو_# &amp; Hi from 🌷😂 9121 https://fb.com   @KeroML   #ماشيين_ليرننج ')"
   ]
  },
  {
   "cell_type": "code",
   "execution_count": null,
   "id": "00ec2d29-9ec9-4133-8ffc-abdd43006bfb",
   "metadata": {},
   "outputs": [],
   "source": []
  },
  {
   "cell_type": "markdown",
   "id": "55d95c01-13f2-4421-bd98-9cdb3dcd2a9d",
   "metadata": {},
   "source": [
    "Removing Punctuations.."
   ]
  },
  {
   "cell_type": "code",
   "execution_count": 9,
   "id": "08825a0c-b6cd-49a5-8daf-f08d6f677dac",
   "metadata": {},
   "outputs": [],
   "source": [
    "arabic_punctuations = '''`÷×؛<>_()*&^%][ـ،/:\"؟.,'{}~¦+|!”…“–ـ'''\n",
    "english_punctuations = string.punctuation\n",
    "\n",
    "def remove_punctuation(tweet):\n",
    "    punctuations = arabic_punctuations + english_punctuations\n",
    "    translator = str.maketrans('', '', punctuations)\n",
    "    return tweet.translate(translator)"
   ]
  },
  {
   "cell_type": "code",
   "execution_count": 10,
   "id": "79f8bf51-577d-4af4-8f4d-423147bf9c8d",
   "metadata": {},
   "outputs": [
    {
     "data": {
      "text/plain": [
       "'بانكتويشين '"
      ]
     },
     "execution_count": 10,
     "metadata": {},
     "output_type": "execute_result"
    }
   ],
   "source": [
    "remove_punctuation('بانكتويشين .......؟!')"
   ]
  },
  {
   "cell_type": "code",
   "execution_count": null,
   "id": "5a54075c-efa7-4fb9-a9e5-6426631bf745",
   "metadata": {},
   "outputs": [],
   "source": []
  },
  {
   "cell_type": "markdown",
   "id": "72aed79a-1fd0-449f-a0b1-f122bfe0fa50",
   "metadata": {},
   "source": [
    "unifing thd multiple arabic letters representation into one standart letter for each"
   ]
  },
  {
   "cell_type": "code",
   "execution_count": 11,
   "id": "4897b821-747a-4d9d-88ee-5c319aaa8e96",
   "metadata": {},
   "outputs": [],
   "source": [
    "noise = re.compile(\"\"\" ّ| َ| ً| ُ| ٌ| ِ| ٍ| ْ| \"\"\", re.VERBOSE)\n",
    "\n",
    "def unify_letters(tweet):\n",
    "    tweet = re.sub(\"[إأٱآا]\", \"ا\", tweet)\n",
    "    tweet = re.sub(\"ى\", \"ي\", tweet)\n",
    "    tweet = re.sub(\"ؤ\", \"ء\", tweet)\n",
    "    tweet = re.sub(\"وو\", \"و\", tweet)\n",
    "    tweet = re.sub(\"ئ\", \"ء\", tweet)\n",
    "    tweet = re.sub(\"گ\", \"ك\", tweet)\n",
    "\n",
    "    tweet = re.sub(noise, '', tweet)\n",
    "    return tweet"
   ]
  },
  {
   "cell_type": "code",
   "execution_count": 12,
   "id": "cae990cf-5a3d-4b7a-973f-f4612009a85f",
   "metadata": {},
   "outputs": [
    {
     "data": {
      "text/plain": [
       "'ان كك القراء يقرءون القران قراءة جميلــــــة'"
      ]
     },
     "execution_count": 12,
     "metadata": {},
     "output_type": "execute_result"
    }
   ],
   "source": [
    "unify_letters(\"إِنَّ گگ الْقُرَّاْءَ يَقْرَؤُوْنَ الْقُرْآنَ قِرَاْءَةً جَمِيْلَــــــةً\")"
   ]
  },
  {
   "cell_type": "code",
   "execution_count": null,
   "id": "20f21592-49c0-462d-b750-67661f6ddf3c",
   "metadata": {},
   "outputs": [],
   "source": []
  },
  {
   "cell_type": "markdown",
   "id": "9bf091c7-844d-4d43-86a1-2442ae59425f",
   "metadata": {},
   "source": [
    "Remove Arabic stop words"
   ]
  },
  {
   "cell_type": "code",
   "execution_count": 13,
   "id": "62f454b9-f6e5-4282-be17-4f22e342ca6e",
   "metadata": {
    "collapsed": true,
    "jupyter": {
     "outputs_hidden": true
    },
    "tags": []
   },
   "outputs": [
    {
     "data": {
      "text/plain": [
       "['إذ',\n",
       " 'إذا',\n",
       " 'إذما',\n",
       " 'إذن',\n",
       " 'أف',\n",
       " 'أقل',\n",
       " 'أكثر',\n",
       " 'ألا',\n",
       " 'إلا',\n",
       " 'التي',\n",
       " 'الذي',\n",
       " 'الذين',\n",
       " 'اللاتي',\n",
       " 'اللائي',\n",
       " 'اللتان',\n",
       " 'اللتيا',\n",
       " 'اللتين',\n",
       " 'اللذان',\n",
       " 'اللذين',\n",
       " 'اللواتي',\n",
       " 'إلى',\n",
       " 'إليك',\n",
       " 'إليكم',\n",
       " 'إليكما',\n",
       " 'إليكن',\n",
       " 'أم',\n",
       " 'أما',\n",
       " 'أما',\n",
       " 'إما',\n",
       " 'أن',\n",
       " 'إن',\n",
       " 'إنا',\n",
       " 'أنا',\n",
       " 'أنت',\n",
       " 'أنتم',\n",
       " 'أنتما',\n",
       " 'أنتن',\n",
       " 'إنما',\n",
       " 'إنه',\n",
       " 'أنى',\n",
       " 'أنى',\n",
       " 'آه',\n",
       " 'آها',\n",
       " 'أو',\n",
       " 'أولاء',\n",
       " 'أولئك',\n",
       " 'أوه',\n",
       " 'آي',\n",
       " 'أي',\n",
       " 'أيها',\n",
       " 'إي',\n",
       " 'أين',\n",
       " 'أين',\n",
       " 'أينما',\n",
       " 'إيه',\n",
       " 'بخ',\n",
       " 'بس',\n",
       " 'بعد',\n",
       " 'بعض',\n",
       " 'بك',\n",
       " 'بكم',\n",
       " 'بكم',\n",
       " 'بكما',\n",
       " 'بكن',\n",
       " 'بل',\n",
       " 'بلى',\n",
       " 'بما',\n",
       " 'بماذا',\n",
       " 'بمن',\n",
       " 'بنا',\n",
       " 'به',\n",
       " 'بها',\n",
       " 'بهم',\n",
       " 'بهما',\n",
       " 'بهن',\n",
       " 'بي',\n",
       " 'بين',\n",
       " 'بيد',\n",
       " 'تلك',\n",
       " 'تلكم',\n",
       " 'تلكما',\n",
       " 'ته',\n",
       " 'تي',\n",
       " 'تين',\n",
       " 'تينك',\n",
       " 'ثم',\n",
       " 'ثمة',\n",
       " 'حاشا',\n",
       " 'حبذا',\n",
       " 'حتى',\n",
       " 'حيث',\n",
       " 'حيثما',\n",
       " 'حين',\n",
       " 'خلا',\n",
       " 'دون',\n",
       " 'ذا',\n",
       " 'ذات',\n",
       " 'ذاك',\n",
       " 'ذان',\n",
       " 'ذانك',\n",
       " 'ذلك',\n",
       " 'ذلكم',\n",
       " 'ذلكما',\n",
       " 'ذلكن',\n",
       " 'ذه',\n",
       " 'ذو',\n",
       " 'ذوا',\n",
       " 'ذواتا',\n",
       " 'ذواتي',\n",
       " 'ذي',\n",
       " 'ذين',\n",
       " 'ذينك',\n",
       " 'ريث',\n",
       " 'سوف',\n",
       " 'سوى',\n",
       " 'شتان',\n",
       " 'عدا',\n",
       " 'عسى',\n",
       " 'عل',\n",
       " 'على',\n",
       " 'عليك',\n",
       " 'عليه',\n",
       " 'عما',\n",
       " 'عن',\n",
       " 'عند',\n",
       " 'غير',\n",
       " 'فإذا',\n",
       " 'فإن',\n",
       " 'فلا',\n",
       " 'فمن',\n",
       " 'في',\n",
       " 'فيم',\n",
       " 'فيما',\n",
       " 'فيه',\n",
       " 'فيها',\n",
       " 'قد',\n",
       " 'كأن',\n",
       " 'كأنما',\n",
       " 'كأي',\n",
       " 'كأين',\n",
       " 'كذا',\n",
       " 'كذلك',\n",
       " 'كل',\n",
       " 'كلا',\n",
       " 'كلاهما',\n",
       " 'كلتا',\n",
       " 'كلما',\n",
       " 'كليكما',\n",
       " 'كليهما',\n",
       " 'كم',\n",
       " 'كم',\n",
       " 'كما',\n",
       " 'كي',\n",
       " 'كيت',\n",
       " 'كيف',\n",
       " 'كيفما',\n",
       " 'لا',\n",
       " 'لاسيما',\n",
       " 'لدى',\n",
       " 'لست',\n",
       " 'لستم',\n",
       " 'لستما',\n",
       " 'لستن',\n",
       " 'لسن',\n",
       " 'لسنا',\n",
       " 'لعل',\n",
       " 'لك',\n",
       " 'لكم',\n",
       " 'لكما',\n",
       " 'لكن',\n",
       " 'لكنما',\n",
       " 'لكي',\n",
       " 'لكيلا',\n",
       " 'لم',\n",
       " 'لما',\n",
       " 'لن',\n",
       " 'لنا',\n",
       " 'له',\n",
       " 'لها',\n",
       " 'لهم',\n",
       " 'لهما',\n",
       " 'لهن',\n",
       " 'لو',\n",
       " 'لولا',\n",
       " 'لوما',\n",
       " 'لي',\n",
       " 'لئن',\n",
       " 'ليت',\n",
       " 'ليس',\n",
       " 'ليسا',\n",
       " 'ليست',\n",
       " 'ليستا',\n",
       " 'ليسوا',\n",
       " 'ما',\n",
       " 'ماذا',\n",
       " 'متى',\n",
       " 'مذ',\n",
       " 'مع',\n",
       " 'مما',\n",
       " 'ممن',\n",
       " 'من',\n",
       " 'منه',\n",
       " 'منها',\n",
       " 'منذ',\n",
       " 'مه',\n",
       " 'مهما',\n",
       " 'نحن',\n",
       " 'نحو',\n",
       " 'نعم',\n",
       " 'ها',\n",
       " 'هاتان',\n",
       " 'هاته',\n",
       " 'هاتي',\n",
       " 'هاتين',\n",
       " 'هاك',\n",
       " 'هاهنا',\n",
       " 'هذا',\n",
       " 'هذان',\n",
       " 'هذه',\n",
       " 'هذي',\n",
       " 'هذين',\n",
       " 'هكذا',\n",
       " 'هل',\n",
       " 'هلا',\n",
       " 'هم',\n",
       " 'هما',\n",
       " 'هن',\n",
       " 'هنا',\n",
       " 'هناك',\n",
       " 'هنالك',\n",
       " 'هو',\n",
       " 'هؤلاء',\n",
       " 'هي',\n",
       " 'هيا',\n",
       " 'هيت',\n",
       " 'هيهات',\n",
       " 'والذي',\n",
       " 'والذين',\n",
       " 'وإذ',\n",
       " 'وإذا',\n",
       " 'وإن',\n",
       " 'ولا',\n",
       " 'ولكن',\n",
       " 'ولو',\n",
       " 'وما',\n",
       " 'ومن',\n",
       " 'وهو',\n",
       " 'يا',\n",
       " 'أبٌ',\n",
       " 'أخٌ',\n",
       " 'حمٌ',\n",
       " 'فو',\n",
       " 'أنتِ',\n",
       " 'يناير',\n",
       " 'فبراير',\n",
       " 'مارس',\n",
       " 'أبريل',\n",
       " 'مايو',\n",
       " 'يونيو',\n",
       " 'يوليو',\n",
       " 'أغسطس',\n",
       " 'سبتمبر',\n",
       " 'أكتوبر',\n",
       " 'نوفمبر',\n",
       " 'ديسمبر',\n",
       " 'جانفي',\n",
       " 'فيفري',\n",
       " 'مارس',\n",
       " 'أفريل',\n",
       " 'ماي',\n",
       " 'جوان',\n",
       " 'جويلية',\n",
       " 'أوت',\n",
       " 'كانون',\n",
       " 'شباط',\n",
       " 'آذار',\n",
       " 'نيسان',\n",
       " 'أيار',\n",
       " 'حزيران',\n",
       " 'تموز',\n",
       " 'آب',\n",
       " 'أيلول',\n",
       " 'تشرين',\n",
       " 'دولار',\n",
       " 'دينار',\n",
       " 'ريال',\n",
       " 'درهم',\n",
       " 'ليرة',\n",
       " 'جنيه',\n",
       " 'قرش',\n",
       " 'مليم',\n",
       " 'فلس',\n",
       " 'هللة',\n",
       " 'سنتيم',\n",
       " 'يورو',\n",
       " 'ين',\n",
       " 'يوان',\n",
       " 'شيكل',\n",
       " 'واحد',\n",
       " 'اثنان',\n",
       " 'ثلاثة',\n",
       " 'أربعة',\n",
       " 'خمسة',\n",
       " 'ستة',\n",
       " 'سبعة',\n",
       " 'ثمانية',\n",
       " 'تسعة',\n",
       " 'عشرة',\n",
       " 'أحد',\n",
       " 'اثنا',\n",
       " 'اثني',\n",
       " 'إحدى',\n",
       " 'ثلاث',\n",
       " 'أربع',\n",
       " 'خمس',\n",
       " 'ست',\n",
       " 'سبع',\n",
       " 'ثماني',\n",
       " 'تسع',\n",
       " 'عشر',\n",
       " 'ثمان',\n",
       " 'سبت',\n",
       " 'أحد',\n",
       " 'اثنين',\n",
       " 'ثلاثاء',\n",
       " 'أربعاء',\n",
       " 'خميس',\n",
       " 'جمعة',\n",
       " 'أول',\n",
       " 'ثان',\n",
       " 'ثاني',\n",
       " 'ثالث',\n",
       " 'رابع',\n",
       " 'خامس',\n",
       " 'سادس',\n",
       " 'سابع',\n",
       " 'ثامن',\n",
       " 'تاسع',\n",
       " 'عاشر',\n",
       " 'حادي',\n",
       " 'أ',\n",
       " 'ب',\n",
       " 'ت',\n",
       " 'ث',\n",
       " 'ج',\n",
       " 'ح',\n",
       " 'خ',\n",
       " 'د',\n",
       " 'ذ',\n",
       " 'ر',\n",
       " 'ز',\n",
       " 'س',\n",
       " 'ش',\n",
       " 'ص',\n",
       " 'ض',\n",
       " 'ط',\n",
       " 'ظ',\n",
       " 'ع',\n",
       " 'غ',\n",
       " 'ف',\n",
       " 'ق',\n",
       " 'ك',\n",
       " 'ل',\n",
       " 'م',\n",
       " 'ن',\n",
       " 'ه',\n",
       " 'و',\n",
       " 'ي',\n",
       " 'ء',\n",
       " 'ى',\n",
       " 'آ',\n",
       " 'ؤ',\n",
       " 'ئ',\n",
       " 'أ',\n",
       " 'ة',\n",
       " 'ألف',\n",
       " 'باء',\n",
       " 'تاء',\n",
       " 'ثاء',\n",
       " 'جيم',\n",
       " 'حاء',\n",
       " 'خاء',\n",
       " 'دال',\n",
       " 'ذال',\n",
       " 'راء',\n",
       " 'زاي',\n",
       " 'سين',\n",
       " 'شين',\n",
       " 'صاد',\n",
       " 'ضاد',\n",
       " 'طاء',\n",
       " 'ظاء',\n",
       " 'عين',\n",
       " 'غين',\n",
       " 'فاء',\n",
       " 'قاف',\n",
       " 'كاف',\n",
       " 'لام',\n",
       " 'ميم',\n",
       " 'نون',\n",
       " 'هاء',\n",
       " 'واو',\n",
       " 'ياء',\n",
       " 'همزة',\n",
       " 'ي',\n",
       " 'نا',\n",
       " 'ك',\n",
       " 'كن',\n",
       " 'ه',\n",
       " 'إياه',\n",
       " 'إياها',\n",
       " 'إياهما',\n",
       " 'إياهم',\n",
       " 'إياهن',\n",
       " 'إياك',\n",
       " 'إياكما',\n",
       " 'إياكم',\n",
       " 'إياك',\n",
       " 'إياكن',\n",
       " 'إياي',\n",
       " 'إيانا',\n",
       " 'أولالك',\n",
       " 'تانِ',\n",
       " 'تانِك',\n",
       " 'تِه',\n",
       " 'تِي',\n",
       " 'تَيْنِ',\n",
       " 'ثمّ',\n",
       " 'ثمّة',\n",
       " 'ذانِ',\n",
       " 'ذِه',\n",
       " 'ذِي',\n",
       " 'ذَيْنِ',\n",
       " 'هَؤلاء',\n",
       " 'هَاتانِ',\n",
       " 'هَاتِه',\n",
       " 'هَاتِي',\n",
       " 'هَاتَيْنِ',\n",
       " 'هَذا',\n",
       " 'هَذانِ',\n",
       " 'هَذِه',\n",
       " 'هَذِي',\n",
       " 'هَذَيْنِ',\n",
       " 'الألى',\n",
       " 'الألاء',\n",
       " 'أل',\n",
       " 'أنّى',\n",
       " 'أيّ',\n",
       " 'ّأيّان',\n",
       " 'أنّى',\n",
       " 'أيّ',\n",
       " 'ّأيّان',\n",
       " 'ذيت',\n",
       " 'كأيّ',\n",
       " 'كأيّن',\n",
       " 'بضع',\n",
       " 'فلان',\n",
       " 'وا',\n",
       " 'آمينَ',\n",
       " 'آهِ',\n",
       " 'آهٍ',\n",
       " 'آهاً',\n",
       " 'أُفٍّ',\n",
       " 'أُفٍّ',\n",
       " 'أفٍّ',\n",
       " 'أمامك',\n",
       " 'أمامكَ',\n",
       " 'أوّهْ',\n",
       " 'إلَيْكَ',\n",
       " 'إلَيْكَ',\n",
       " 'إليكَ',\n",
       " 'إليكنّ',\n",
       " 'إيهٍ',\n",
       " 'بخٍ',\n",
       " 'بسّ',\n",
       " 'بَسْ',\n",
       " 'بطآن',\n",
       " 'بَلْهَ',\n",
       " 'حاي',\n",
       " 'حَذارِ',\n",
       " 'حيَّ',\n",
       " 'حيَّ',\n",
       " 'دونك',\n",
       " 'رويدك',\n",
       " 'سرعان',\n",
       " 'شتانَ',\n",
       " 'شَتَّانَ',\n",
       " 'صهْ',\n",
       " 'صهٍ',\n",
       " 'طاق',\n",
       " 'طَق',\n",
       " 'عَدَسْ',\n",
       " 'كِخ',\n",
       " 'مكانَك',\n",
       " 'مكانَك',\n",
       " 'مكانَك',\n",
       " 'مكانكم',\n",
       " 'مكانكما',\n",
       " 'مكانكنّ',\n",
       " 'نَخْ',\n",
       " 'هاكَ',\n",
       " 'هَجْ',\n",
       " 'هلم',\n",
       " 'هيّا',\n",
       " 'هَيْهات',\n",
       " 'وا',\n",
       " 'واهاً',\n",
       " 'وراءَك',\n",
       " 'وُشْكَانَ',\n",
       " 'وَيْ',\n",
       " 'يفعلان',\n",
       " 'تفعلان',\n",
       " 'يفعلون',\n",
       " 'تفعلون',\n",
       " 'تفعلين',\n",
       " 'اتخذ',\n",
       " 'ألفى',\n",
       " 'تخذ',\n",
       " 'ترك',\n",
       " 'تعلَّم',\n",
       " 'جعل',\n",
       " 'حجا',\n",
       " 'حبيب',\n",
       " 'خال',\n",
       " 'حسب',\n",
       " 'خال',\n",
       " 'درى',\n",
       " 'رأى',\n",
       " 'زعم',\n",
       " 'صبر',\n",
       " 'ظنَّ',\n",
       " 'عدَّ',\n",
       " 'علم',\n",
       " 'غادر',\n",
       " 'ذهب',\n",
       " 'وجد',\n",
       " 'ورد',\n",
       " 'وهب',\n",
       " 'أسكن',\n",
       " 'أطعم',\n",
       " 'أعطى',\n",
       " 'رزق',\n",
       " 'زود',\n",
       " 'سقى',\n",
       " 'كسا',\n",
       " 'أخبر',\n",
       " 'أرى',\n",
       " 'أعلم',\n",
       " 'أنبأ',\n",
       " 'حدَث',\n",
       " 'خبَّر',\n",
       " 'نبَّا',\n",
       " 'أفعل به',\n",
       " 'ما أفعله',\n",
       " 'بئس',\n",
       " 'ساء',\n",
       " 'طالما',\n",
       " 'قلما',\n",
       " 'لات',\n",
       " 'لكنَّ',\n",
       " 'ءَ',\n",
       " 'أجل',\n",
       " 'إذاً',\n",
       " 'أمّا',\n",
       " 'إمّا',\n",
       " 'إنَّ',\n",
       " 'أنًّ',\n",
       " 'أى',\n",
       " 'إى',\n",
       " 'أيا',\n",
       " 'ب',\n",
       " 'ثمَّ',\n",
       " 'جلل',\n",
       " 'جير',\n",
       " 'رُبَّ',\n",
       " 'س',\n",
       " 'علًّ',\n",
       " 'ف',\n",
       " 'كأنّ',\n",
       " 'كلَّا',\n",
       " 'كى',\n",
       " 'ل',\n",
       " 'لات',\n",
       " 'لعلَّ',\n",
       " 'لكنَّ',\n",
       " 'لكنَّ',\n",
       " 'م',\n",
       " 'نَّ',\n",
       " 'هلّا',\n",
       " 'وا',\n",
       " 'أل',\n",
       " 'إلّا',\n",
       " 'ت',\n",
       " 'ك',\n",
       " 'لمّا',\n",
       " 'ن',\n",
       " 'ه',\n",
       " 'و',\n",
       " 'ا',\n",
       " 'ي',\n",
       " 'تجاه',\n",
       " 'تلقاء',\n",
       " 'جميع',\n",
       " 'حسب',\n",
       " 'سبحان',\n",
       " 'شبه',\n",
       " 'لعمر',\n",
       " 'مثل',\n",
       " 'معاذ',\n",
       " 'أبو',\n",
       " 'أخو',\n",
       " 'حمو',\n",
       " 'فو',\n",
       " 'مئة',\n",
       " 'مئتان',\n",
       " 'ثلاثمئة',\n",
       " 'أربعمئة',\n",
       " 'خمسمئة',\n",
       " 'ستمئة',\n",
       " 'سبعمئة',\n",
       " 'ثمنمئة',\n",
       " 'تسعمئة',\n",
       " 'مائة',\n",
       " 'ثلاثمائة',\n",
       " 'أربعمائة',\n",
       " 'خمسمائة',\n",
       " 'ستمائة',\n",
       " 'سبعمائة',\n",
       " 'ثمانمئة',\n",
       " 'تسعمائة',\n",
       " 'عشرون',\n",
       " 'ثلاثون',\n",
       " 'اربعون',\n",
       " 'خمسون',\n",
       " 'ستون',\n",
       " 'سبعون',\n",
       " 'ثمانون',\n",
       " 'تسعون',\n",
       " 'عشرين',\n",
       " 'ثلاثين',\n",
       " 'اربعين',\n",
       " 'خمسين',\n",
       " 'ستين',\n",
       " 'سبعين',\n",
       " 'ثمانين',\n",
       " 'تسعين',\n",
       " 'بضع',\n",
       " 'نيف',\n",
       " 'أجمع',\n",
       " 'جميع',\n",
       " 'عامة',\n",
       " 'عين',\n",
       " 'نفس',\n",
       " 'لا سيما',\n",
       " 'أصلا',\n",
       " 'أهلا',\n",
       " 'أيضا',\n",
       " 'بؤسا',\n",
       " 'بعدا',\n",
       " 'بغتة',\n",
       " 'تعسا',\n",
       " 'حقا',\n",
       " 'حمدا',\n",
       " 'خلافا',\n",
       " 'خاصة',\n",
       " 'دواليك',\n",
       " 'سحقا',\n",
       " 'سرا',\n",
       " 'سمعا',\n",
       " 'صبرا',\n",
       " 'صدقا',\n",
       " 'صراحة',\n",
       " 'طرا',\n",
       " 'عجبا',\n",
       " 'عيانا',\n",
       " 'غالبا',\n",
       " 'فرادى',\n",
       " 'فضلا',\n",
       " 'قاطبة',\n",
       " 'كثيرا',\n",
       " 'لبيك',\n",
       " 'معاذ',\n",
       " 'أبدا',\n",
       " 'إزاء',\n",
       " 'أصلا',\n",
       " 'الآن',\n",
       " 'أمد',\n",
       " 'أمس',\n",
       " 'آنفا',\n",
       " 'آناء',\n",
       " 'أنّى',\n",
       " 'أول',\n",
       " 'أيّان',\n",
       " 'تارة',\n",
       " 'ثمّ',\n",
       " 'ثمّة',\n",
       " 'حقا',\n",
       " 'صباح',\n",
       " 'مساء',\n",
       " 'ضحوة',\n",
       " 'عوض',\n",
       " 'غدا',\n",
       " 'غداة',\n",
       " 'قطّ',\n",
       " 'كلّما',\n",
       " 'لدن',\n",
       " 'لمّا',\n",
       " 'مرّة',\n",
       " 'قبل',\n",
       " 'خلف',\n",
       " 'أمام',\n",
       " 'فوق',\n",
       " 'تحت',\n",
       " 'يمين',\n",
       " 'شمال',\n",
       " 'ارتدّ',\n",
       " 'استحال',\n",
       " 'أصبح',\n",
       " 'أضحى',\n",
       " 'آض',\n",
       " 'أمسى',\n",
       " 'انقلب',\n",
       " 'بات',\n",
       " 'تبدّل',\n",
       " 'تحوّل',\n",
       " 'حار',\n",
       " 'رجع',\n",
       " 'راح',\n",
       " 'صار',\n",
       " 'ظلّ',\n",
       " 'عاد',\n",
       " 'غدا',\n",
       " 'كان',\n",
       " 'ما انفك',\n",
       " 'ما برح',\n",
       " 'مادام',\n",
       " 'مازال',\n",
       " 'مافتئ',\n",
       " 'ابتدأ',\n",
       " 'أخذ',\n",
       " 'اخلولق',\n",
       " 'أقبل',\n",
       " 'انبرى',\n",
       " 'أنشأ',\n",
       " 'أوشك',\n",
       " 'جعل',\n",
       " 'حرى',\n",
       " 'شرع',\n",
       " 'طفق',\n",
       " 'علق',\n",
       " 'قام',\n",
       " 'كرب',\n",
       " 'كاد',\n",
       " 'هبّ']"
      ]
     },
     "execution_count": 13,
     "metadata": {},
     "output_type": "execute_result"
    }
   ],
   "source": [
    "stopwords_list = stopwords.words('arabic')\n",
    "stopwords_list"
   ]
  },
  {
   "cell_type": "code",
   "execution_count": 14,
   "id": "38b508df-2d79-474c-ad22-15806d6cc507",
   "metadata": {},
   "outputs": [],
   "source": [
    "list_to_remove = ['هلا', 'دونك', 'يناير','فبراير','مارس','أبريل','مايو','يونيو','يوليو','أغسطس','سبتمبر','أكتوبر','نوفمبر','ديسمبر','جانفي','فيفري','مارس','أفريل','ماي','جوان','جويلية','أوت','كانون','شباط','آذار','نيسان','أيار','حزيران','تموز','آب','أيلول','تشرين','دولار','دينار','ريال','درهم','ليرة','جنيه','قرش','مليم','فلس','هللة','سنتيم','يورو','ين','يوان','شيكل','نيف'] "
   ]
  },
  {
   "cell_type": "code",
   "execution_count": 15,
   "id": "8e8f09b7-d27d-4ee8-930c-721e2bbcfe5d",
   "metadata": {},
   "outputs": [],
   "source": [
    "stopwords_list = list(set(stopwords_list) - set(list_to_remove))\n"
   ]
  },
  {
   "cell_type": "markdown",
   "id": "3b879b5c-850a-429b-a3d9-6a0aa6882ea0",
   "metadata": {},
   "source": [
    "Exclude the words that may be frequently used in specific countries like **دونك** that is usally used in Algeria"
   ]
  },
  {
   "cell_type": "code",
   "execution_count": 47,
   "id": "dc4c0707-61e1-4ceb-800b-14ae38ceb62e",
   "metadata": {
    "tags": []
   },
   "outputs": [],
   "source": [
    "stopwords_list_space =[]\n",
    "\n",
    "for w in stopwords_list :\n",
    "    stopwords_list_space.append(unify_letters(w))\n",
    "    \n",
    "stopwords_list_space = stopwords_list_space+[\" \"]\n"
   ]
  },
  {
   "cell_type": "markdown",
   "id": "332c71b9-2a85-4a9b-b4c6-c9c0e4a74256",
   "metadata": {},
   "source": [
    "Final Step is to remove extra spaces and words that consist of one letter"
   ]
  },
  {
   "cell_type": "code",
   "execution_count": 17,
   "id": "3d0f07df-4a25-414a-b4de-fcf503aaf974",
   "metadata": {},
   "outputs": [],
   "source": [
    "def remove_stopWords_spaces(tweet):\n",
    "    tweets_tokeinzed = [] \n",
    "    for w in nltk.word_tokenize(tweet) :\n",
    "         if (w not in stopwords_list_space) and len(w)>1 :\n",
    "                tweets_tokeinzed.append(w)\n",
    "                \n",
    "\n",
    "    return tweets_tokeinzed, ' '.join(tweets_tokeinzed)"
   ]
  },
  {
   "cell_type": "code",
   "execution_count": 18,
   "id": "77436131-df6a-480b-8421-4880109c7ece",
   "metadata": {},
   "outputs": [
    {
     "data": {
      "text/plain": [
       "(['ستوب', 'وورد'], 'ستوب وورد')"
      ]
     },
     "execution_count": 18,
     "metadata": {},
     "output_type": "execute_result"
    }
   ],
   "source": [
    "remove_stopWords_spaces('هل انا نحن هو هم  و      ستوب      وورد ')"
   ]
  },
  {
   "cell_type": "code",
   "execution_count": null,
   "id": "d99e46ca-86ed-4403-a444-1e37ae841256",
   "metadata": {},
   "outputs": [],
   "source": []
  },
  {
   "cell_type": "code",
   "execution_count": null,
   "id": "9681af4f-cdff-428d-84da-c475989af7df",
   "metadata": {},
   "outputs": [],
   "source": []
  },
  {
   "cell_type": "code",
   "execution_count": null,
   "id": "5109e6d8-9996-4c7b-9603-a8c3d875cb9f",
   "metadata": {},
   "outputs": [],
   "source": []
  },
  {
   "cell_type": "code",
   "execution_count": null,
   "id": "1ce96007-361e-440a-8a96-3676335d9d33",
   "metadata": {},
   "outputs": [],
   "source": []
  },
  {
   "cell_type": "code",
   "execution_count": 19,
   "id": "ac060cab-575d-4a87-9af9-0d143c5fcf62",
   "metadata": {},
   "outputs": [],
   "source": [
    "def Pre_Process(tweets):    \n",
    "    clean_tweets_tokenized = [] \n",
    "    clean_tweets_untokenized = [] \n",
    "\n",
    "    for tweet in tweets:\n",
    "        tweet= regex_manupilation(tweet)\n",
    "        tweet= remove_punctuation(tweet)\n",
    "        tweet = unify_letters(tweet)\n",
    "        tweet_tokized ,tweet_untokized = remove_stopWords_spaces(tweet)\n",
    "        clean_tweets_tokenized.append(tweet_tokized)\n",
    "        clean_tweets_untokenized.append(tweet_untokized)\n",
    "    return clean_tweets_tokenized,clean_tweets_untokenized # save to versions of tweets, tokenized one and String one"
   ]
  },
  {
   "cell_type": "code",
   "execution_count": 20,
   "id": "8e32d87c-fa12-45d5-b1e8-22423b993b0e",
   "metadata": {
    "tags": []
   },
   "outputs": [],
   "source": [
    "clean_df = tweets_dialect_df\n",
    "clean_df['clean_tweet_tokenized'], clean_df['clean_tweet_untokenized']= Pre_Process(tweets_dialect_df['tweet'])\n"
   ]
  },
  {
   "cell_type": "markdown",
   "id": "b37c48cb-0933-430a-8413-6a19da00da84",
   "metadata": {},
   "source": [
    "Check if there ara empty tweets after preprocessing"
   ]
  },
  {
   "cell_type": "code",
   "execution_count": 21,
   "id": "b6647f1c-6a97-4262-9176-eb6416d5096d",
   "metadata": {},
   "outputs": [
    {
     "data": {
      "text/plain": [
       "242"
      ]
     },
     "execution_count": 21,
     "metadata": {},
     "output_type": "execute_result"
    }
   ],
   "source": [
    "indicies =clean_df[clean_df['clean_tweet_untokenized'] == ''].index\n",
    "len(indicies)"
   ]
  },
  {
   "cell_type": "code",
   "execution_count": 22,
   "id": "a99c7fa7-8830-48e7-8fda-1e642535b8a3",
   "metadata": {},
   "outputs": [],
   "source": [
    "clean_df= clean_df.drop(clean_df.index[indicies])"
   ]
  },
  {
   "cell_type": "code",
   "execution_count": 23,
   "id": "4e1e8456-c6e3-41f3-b1e9-2054ede3dde4",
   "metadata": {},
   "outputs": [],
   "source": [
    "del tweets_dialect_df"
   ]
  },
  {
   "cell_type": "code",
   "execution_count": 24,
   "id": "b1ddd41e-2e9d-4e90-b40b-2455f0ea75f8",
   "metadata": {},
   "outputs": [],
   "source": [
    "clean_df['clean_tweet_untokenized'].to_csv('clean_tweet_untokenized.csv' , index = False) # Save the string version of clean tweets.\n"
   ]
  },
  {
   "cell_type": "code",
   "execution_count": 25,
   "id": "2e490599-f9b9-449e-a298-37dc929bb699",
   "metadata": {},
   "outputs": [],
   "source": [
    "clean_df.drop(labels=['clean_tweet_untokenized'] ,axis =1, inplace = True)"
   ]
  },
  {
   "cell_type": "code",
   "execution_count": null,
   "id": "a142626f-353f-4766-8931-4903624bc7b6",
   "metadata": {},
   "outputs": [],
   "source": []
  },
  {
   "cell_type": "code",
   "execution_count": null,
   "id": "3f7cc07c-41f6-4451-afdf-fc46339b128f",
   "metadata": {},
   "outputs": [],
   "source": [
    "'''#Over Sampling\n",
    "from imblearn.over_sampling import RandomOverSampler\n",
    "\n",
    "y=clean_df['dialect'] \n",
    "X= clean_df.drop(['dialect'], axis=1)\n",
    "\n",
    "ros = RandomOverSampler(sampling_strategy=\"not majority\") # String\n",
    "X_res, y_res = ros.fit_resample(X, y)\n",
    "clean_df=pd.concat([X_res, y_res] ,axis=1)\n",
    "\n",
    "del X_res, y_res , X,y\n",
    "plt.figure(figsize=(10,8))\n",
    "sns.barplot(x = clean_df['dialect'].value_counts().index ,y =clean_df['dialect'].value_counts().values)\n",
    "plt.xlabel('dialect')\n",
    "plt.title('Number of tweets per dialect After Over Sampling')"
   ]
  },
  {
   "cell_type": "code",
   "execution_count": null,
   "id": "a1cf42fc-b9f4-4c4b-ab51-325116aed1f6",
   "metadata": {},
   "outputs": [],
   "source": []
  },
  {
   "cell_type": "markdown",
   "id": "27621315-888c-404c-b54f-92d93bce7183",
   "metadata": {},
   "source": [
    "Visualize the top *N* frequent words in *X* dialect"
   ]
  },
  {
   "cell_type": "code",
   "execution_count": 26,
   "id": "910d12f5-2d2b-4ebd-860f-6293e175f08d",
   "metadata": {},
   "outputs": [],
   "source": [
    "def top_n_word(dialect,n): \n",
    "    words = [word for tokens in clean_df[clean_df['dialect']== dialect]['clean_tweet_tokenized'] for word in tokens]\n",
    "    counter = Counter(words)\n",
    "    indicies =[] \n",
    "    counts =[]\n",
    "    words = []\n",
    "    for  i in counter.most_common(n):\n",
    "        words.append(i[0])\n",
    "        indicies.append(i[0][::-1])\n",
    "        counts.append(i[1])\n",
    "    plt.figure(figsize=(10,8))\n",
    "    \n",
    "    sns.barplot(x = indicies ,y =counts)\n",
    "    plt.xlabel('words')\n",
    "    plt.ylabel('counts')\n",
    "    plt.title('Top '+str(n)+' frequent words in ' +dialect )\n",
    "    \n",
    "    return words"
   ]
  },
  {
   "cell_type": "code",
   "execution_count": 27,
   "id": "bc47d096-c320-4ab3-82b3-5fdb94f52a20",
   "metadata": {},
   "outputs": [
    {
     "data": {
      "text/plain": [
       "['اللي',\n",
       " 'مش',\n",
       " 'ده',\n",
       " 'دي',\n",
       " 'مصر',\n",
       " 'عشان',\n",
       " 'الله',\n",
       " 'ربنا',\n",
       " 'احنا',\n",
       " 'كده',\n",
       " 'حد',\n",
       " 'الناس',\n",
       " 'بقي',\n",
       " 'زي',\n",
       " 'والله']"
      ]
     },
     "execution_count": 27,
     "metadata": {},
     "output_type": "execute_result"
    },
    {
     "data": {
      "image/png": "[encoded data removed]",
      "text/plain": [
       "<Figure size 720x576 with 1 Axes>"
      ]
     },
     "metadata": {
      "needs_background": "light"
     },
     "output_type": "display_data"
    }
   ],
   "source": [
    "top_n_word('EG' , 15)"
   ]
  },
  {
   "cell_type": "code",
   "execution_count": 28,
   "id": "a67a21b8-24f5-465e-826a-633a489dc210",
   "metadata": {},
   "outputs": [
    {
     "data": {
      "text/plain": [
       "['مو', 'اللي', 'الله', 'والله', 'شنو', 'هاي', 'شي', 'ليش', 'يعني', 'لان']"
      ]
     },
     "execution_count": 28,
     "metadata": {},
     "output_type": "execute_result"
    },
    {
     "data": {
      "image/png": "[encoded data removed]",
      "text/plain": [
       "<Figure size 720x576 with 1 Axes>"
      ]
     },
     "metadata": {
      "needs_background": "light"
     },
     "output_type": "display_data"
    }
   ],
   "source": [
    "top_n_word('IQ',10)"
   ]
  },
  {
   "cell_type": "code",
   "execution_count": 48,
   "id": "770d8b11-ae80-4614-b7ac-ff21a5da2537",
   "metadata": {},
   "outputs": [
    {
     "data": {
      "text/plain": [
       "['اللي', 'الله', 'مو', 'شي', 'والله', 'الكويت', 'شنو', 'ليش', 'الناس', 'يعني']"
      ]
     },
     "execution_count": 48,
     "metadata": {},
     "output_type": "execute_result"
    },
    {
     "data": {
      "image/png": "[encoded data removed]",
      "text/plain": [
       "<Figure size 720x576 with 1 Axes>"
      ]
     },
     "metadata": {
      "needs_background": "light"
     },
     "output_type": "display_data"
    }
   ],
   "source": [
    "top_n_word('KW',10)"
   ]
  },
  {
   "cell_type": "code",
   "execution_count": 49,
   "id": "5494687c-7c02-401c-995f-8984b72e06b9",
   "metadata": {},
   "outputs": [
    {
     "data": {
      "text/plain": [
       "['الله', 'اللي', 'مش', 'والله', 'شو', 'هيك', 'عشان', 'رح', 'اشي', 'يعني']"
      ]
     },
     "execution_count": 49,
     "metadata": {},
     "output_type": "execute_result"
    },
    {
     "data": {
      "image/png": "[encoded data removed]",
      "text/plain": [
       "<Figure size 720x576 with 1 Axes>"
      ]
     },
     "metadata": {
      "needs_background": "light"
     },
     "output_type": "display_data"
    }
   ],
   "source": [
    "top_n_word('JO',10)"
   ]
  },
  {
   "cell_type": "markdown",
   "id": "bc071460-fd77-47c0-a00b-15d80eca6f48",
   "metadata": {},
   "source": [
    "Analyzing the figures above, we can deduce that **Many words are common between Arabic dialects**"
   ]
  },
  {
   "cell_type": "code",
   "execution_count": null,
   "id": "a3e0df33-feea-46c9-b27b-742654b8521c",
   "metadata": {},
   "outputs": [],
   "source": []
  },
  {
   "cell_type": "code",
   "execution_count": null,
   "id": "06d9b5d4-4f68-4c9a-aab1-d3e4a16a1ebe",
   "metadata": {},
   "outputs": [],
   "source": []
  },
  {
   "cell_type": "markdown",
   "id": "d7e2e7ea-3d1a-4573-9b72-2b3f65742a0b",
   "metadata": {},
   "source": [
    "**Encoding Target Labels**"
   ]
  },
  {
   "cell_type": "markdown",
   "id": "3befeb59-eb20-4d34-a10c-efe14eb776d2",
   "metadata": {},
   "source": [
    "Using Label encoder not one hot encoder to be easly fit in The ML Model"
   ]
  },
  {
   "cell_type": "code",
   "execution_count": 29,
   "id": "51827da1-ae9a-4537-8651-f0d74c293161",
   "metadata": {},
   "outputs": [],
   "source": [
    "label_encoder = preprocessing.LabelEncoder()"
   ]
  },
  {
   "cell_type": "code",
   "execution_count": 30,
   "id": "10d4abda-c925-4f3d-9b17-d966f383fe4d",
   "metadata": {},
   "outputs": [],
   "source": [
    "clean_df['dialect_encoded'] = label_encoder.fit_transform(clean_df['dialect'])"
   ]
  },
  {
   "cell_type": "code",
   "execution_count": 31,
   "id": "8634e6c6-4f31-4727-b73d-4858ae618afd",
   "metadata": {},
   "outputs": [
    {
     "data": {
      "text/html": [
       "<div>\n",
       "<style scoped>\n",
       "    .dataframe tbody tr th:only-of-type {\n",
       "        vertical-align: middle;\n",
       "    }\n",
       "\n",
       "    .dataframe tbody tr th {\n",
       "        vertical-align: top;\n",
       "    }\n",
       "\n",
       "    .dataframe thead th {\n",
       "        text-align: right;\n",
       "    }\n",
       "</style>\n",
       "<table border=\"1\" class=\"dataframe\">\n",
       "  <thead>\n",
       "    <tr style=\"text-align: right;\">\n",
       "      <th></th>\n",
       "      <th>tweet</th>\n",
       "      <th>dialect</th>\n",
       "      <th>clean_tweet_tokenized</th>\n",
       "      <th>dialect_encoded</th>\n",
       "    </tr>\n",
       "  </thead>\n",
       "  <tbody>\n",
       "    <tr>\n",
       "      <th>0</th>\n",
       "      <td>@Nw8ieJUwaCAAreT لكن بالنهاية .. ينتفض .. يغير .</td>\n",
       "      <td>IQ</td>\n",
       "      <td>[بالنهاية, ينتفض, يغير]</td>\n",
       "      <td>4</td>\n",
       "    </tr>\n",
       "    <tr>\n",
       "      <th>1</th>\n",
       "      <td>@7zNqXP0yrODdRjK يعني هذا محسوب على البشر .. ح...</td>\n",
       "      <td>IQ</td>\n",
       "      <td>[يعني, محسوب, البشر, حيونه, وحشيه, وتطلبون, ال...</td>\n",
       "      <td>4</td>\n",
       "    </tr>\n",
       "    <tr>\n",
       "      <th>2</th>\n",
       "      <td>@KanaanRema مبين من كلامه خليجي</td>\n",
       "      <td>IQ</td>\n",
       "      <td>[مبين, كلامه, خليجي]</td>\n",
       "      <td>4</td>\n",
       "    </tr>\n",
       "    <tr>\n",
       "      <th>3</th>\n",
       "      <td>@HAIDER76128900 يسلملي مرورك وروحك الحلوه💐</td>\n",
       "      <td>IQ</td>\n",
       "      <td>[يسلملي, مرورك, وروحك, الحلوه]</td>\n",
       "      <td>4</td>\n",
       "    </tr>\n",
       "    <tr>\n",
       "      <th>4</th>\n",
       "      <td>@hmo2406 وين هل الغيبه  اخ محمد 🌸🌺</td>\n",
       "      <td>IQ</td>\n",
       "      <td>[وين, الغيبه, محمد]</td>\n",
       "      <td>4</td>\n",
       "    </tr>\n",
       "  </tbody>\n",
       "</table>\n",
       "</div>"
      ],
      "text/plain": [
       "                                               tweet dialect  \\\n",
       "0   @Nw8ieJUwaCAAreT لكن بالنهاية .. ينتفض .. يغير .      IQ   \n",
       "1  @7zNqXP0yrODdRjK يعني هذا محسوب على البشر .. ح...      IQ   \n",
       "2                    @KanaanRema مبين من كلامه خليجي      IQ   \n",
       "3         @HAIDER76128900 يسلملي مرورك وروحك الحلوه💐      IQ   \n",
       "4                 @hmo2406 وين هل الغيبه  اخ محمد 🌸🌺      IQ   \n",
       "\n",
       "                               clean_tweet_tokenized  dialect_encoded  \n",
       "0                            [بالنهاية, ينتفض, يغير]                4  \n",
       "1  [يعني, محسوب, البشر, حيونه, وحشيه, وتطلبون, ال...                4  \n",
       "2                               [مبين, كلامه, خليجي]                4  \n",
       "3                     [يسلملي, مرورك, وروحك, الحلوه]                4  \n",
       "4                                [وين, الغيبه, محمد]                4  "
      ]
     },
     "execution_count": 31,
     "metadata": {},
     "output_type": "execute_result"
    }
   ],
   "source": [
    "clean_df.head()"
   ]
  },
  {
   "cell_type": "code",
   "execution_count": 32,
   "id": "3703dae2-d5b0-4514-ac5e-ba3a86216708",
   "metadata": {},
   "outputs": [
    {
     "data": {
      "text/plain": [
       "array(['AE', 'BH', 'DZ', 'EG', 'IQ', 'JO', 'KW', 'LB', 'LY', 'MA', 'OM',\n",
       "       'PL', 'QA', 'SA', 'SD', 'SY', 'TN', 'YE'], dtype=object)"
      ]
     },
     "execution_count": 32,
     "metadata": {},
     "output_type": "execute_result"
    }
   ],
   "source": [
    "label_encoder.classes_"
   ]
  },
  {
   "cell_type": "code",
   "execution_count": 33,
   "id": "c17a6986-3dee-41dd-aed5-5901b0e3edad",
   "metadata": {},
   "outputs": [
    {
     "data": {
      "text/plain": [
       "array([ 4,  8, 12, 11, 15, 16,  5,  9, 13, 17,  2,  3,  7,  6, 10, 14,  0,\n",
       "        1])"
      ]
     },
     "execution_count": 33,
     "metadata": {},
     "output_type": "execute_result"
    }
   ],
   "source": [
    "clean_df['dialect_encoded'].unique()"
   ]
  },
  {
   "cell_type": "markdown",
   "id": "7df20f6f-93f5-49fe-a800-8ffd7a35b32e",
   "metadata": {},
   "source": [
    "**Extracting Features**"
   ]
  },
  {
   "cell_type": "markdown",
   "id": "25673cdb-e710-4eeb-a8d3-ce4ae087cc09",
   "metadata": {},
   "source": [
    "using TFIDF, I extract 2000 *(1-3)* words as features for the whole dataset"
   ]
  },
  {
   "cell_type": "code",
   "execution_count": 34,
   "id": "5f3c0393-e92a-49e4-9bc1-143f99389fa8",
   "metadata": {},
   "outputs": [],
   "source": [
    "word2vec= TfidfVectorizer(\n",
    "    min_df=0.0001, \n",
    "    max_df=0.95, \n",
    "    ngram_range=(1, 3),\n",
    "    max_features= 2000,\n",
    "    analyzer='word')"
   ]
  },
  {
   "cell_type": "code",
   "execution_count": 35,
   "id": "25690e17-c774-4fec-843f-2ba098fa9f54",
   "metadata": {},
   "outputs": [],
   "source": [
    "TrigramdataGet= word2vec.fit_transform(clean_df['clean_tweet_tokenized'].astype('str')).toarray()"
   ]
  },
  {
   "cell_type": "code",
   "execution_count": null,
   "id": "36eb6f16-35c7-4571-916f-6404a341cf72",
   "metadata": {},
   "outputs": [],
   "source": []
  },
  {
   "cell_type": "code",
   "execution_count": 36,
   "id": "8d325192-263c-4d71-9239-8d1abb55c3e6",
   "metadata": {},
   "outputs": [
    {
     "name": "stderr",
     "output_type": "stream",
     "text": [
      "C:\\Users\\RC\\.conda\\envs\\Digisay\\lib\\site-packages\\sklearn\\utils\\deprecation.py:87: FutureWarning: Function get_feature_names is deprecated; get_feature_names is deprecated in 1.0 and will be removed in 1.2. Please use get_feature_names_out instead.\n",
      "  warnings.warn(msg, category=FutureWarning)\n"
     ]
    }
   ],
   "source": [
    "features=pd.DataFrame(np.round(TrigramdataGet, 1), columns=word2vec.get_feature_names())"
   ]
  },
  {
   "cell_type": "code",
   "execution_count": 37,
   "id": "31203516-1529-4181-b95b-b86df7cffabe",
   "metadata": {},
   "outputs": [
    {
     "data": {
      "text/plain": [
       "Index(['ابد', 'ابراهيم', 'ابرك', 'ابن', 'ابوك', 'ابوه', 'ابوي', 'ابي', 'ابيض',\n",
       "       'اتفق', 'اتكلم', 'اتمني', 'اتنين', 'اتوقع', 'اجازة', 'اجمل', 'اجي',\n",
       "       'احب', 'احبك', 'احبه', 'احترام', 'احترامي', 'احس', 'احساس', 'احسن',\n",
       "       'احكي', 'احلا', 'احلام', 'احلي', 'احمد', 'احمر', 'احنا', 'احيانا',\n",
       "       'اخاف', 'اخبار', 'اخت', 'اختي', 'اخد', 'اخر', 'اخري', 'اخلاق', 'اخوان',\n",
       "       'اخوك', 'اخوي', 'اخي', 'ادارة', 'ادب', 'ادخل', 'ادري', 'ادم', 'ادور',\n",
       "       'ارجع', 'ارد', 'ارض', 'اروح', 'ازا', 'ازاي', 'اساس', 'اساسا', 'اسال',\n",
       "       'اسبوع', 'استاذ', 'استغفر', 'استغفر الله', 'اسراءيل', 'اسف', 'اسلوب',\n",
       "       'اسم', 'اسمع', 'اسمك', 'اسمه', 'اسمها', 'اسمي', 'اسود', 'اسوي', 'اسيا',\n",
       "       'اش', 'اشتري', 'اشتغل', 'اشخاص', 'اشرف', 'اشلون', 'اشوف', 'اشوفك',\n",
       "       'اشوفه', 'اشي', 'اشياء', 'اصحاب', 'اصحي', 'اصعب', 'اصل', 'اضحك',\n",
       "       'اطفال', 'اطلع', 'اظن', 'اعتقد', 'اعرف', 'اعرفه', 'اعلي', 'اعمل'],\n",
       "      dtype='object')"
      ]
     },
     "execution_count": 37,
     "metadata": {},
     "output_type": "execute_result"
    }
   ],
   "source": [
    "features.columns[0:100]"
   ]
  },
  {
   "cell_type": "code",
   "execution_count": null,
   "id": "f53b6d7a-4113-4142-8971-8503156bf139",
   "metadata": {},
   "outputs": [],
   "source": []
  },
  {
   "cell_type": "code",
   "execution_count": 38,
   "id": "305d87b2-9917-4c4c-b256-373cfab04104",
   "metadata": {},
   "outputs": [
    {
     "data": {
      "text/plain": [
       "(457955, 2000)"
      ]
     },
     "execution_count": 38,
     "metadata": {},
     "output_type": "execute_result"
    }
   ],
   "source": [
    "features.shape"
   ]
  },
  {
   "cell_type": "code",
   "execution_count": null,
   "id": "830b1291-f56b-4b5f-bc10-3a00a3c31b10",
   "metadata": {},
   "outputs": [],
   "source": []
  },
  {
   "cell_type": "code",
   "execution_count": 39,
   "id": "bcfe16e0-b9fa-4467-82f8-de0c1cbe176c",
   "metadata": {},
   "outputs": [],
   "source": [
    "features.to_csv('features.csv',index=False)\n"
   ]
  },
  {
   "cell_type": "code",
   "execution_count": 40,
   "id": "a52e70e7-65a6-4750-8bcc-a43008904fc0",
   "metadata": {},
   "outputs": [],
   "source": [
    "del features"
   ]
  },
  {
   "cell_type": "code",
   "execution_count": 37,
   "id": "5c4dd0ed-e695-4702-9da8-8b60a020fdb8",
   "metadata": {},
   "outputs": [],
   "source": [
    "clean_df['dialect_encoded'].to_csv('dialects.csv',index=False)"
   ]
  },
  {
   "cell_type": "code",
   "execution_count": null,
   "id": "01d9beae-d494-41d6-b4b3-ceb29392fd82",
   "metadata": {},
   "outputs": [],
   "source": []
  },
  {
   "cell_type": "code",
   "execution_count": null,
   "id": "0c531d32-ebf1-4323-b689-87fa9c7eb14c",
   "metadata": {},
   "outputs": [],
   "source": []
  },
  {
   "cell_type": "code",
   "execution_count": null,
   "id": "e1ffe1a6-e88f-4dc5-bf8a-183453a5e69c",
   "metadata": {},
   "outputs": [],
   "source": []
  },
  {
   "cell_type": "code",
   "execution_count": null,
   "id": "f5e0423d-4264-4f90-b8d0-a0bd2666ef51",
   "metadata": {},
   "outputs": [],
   "source": []
  },
  {
   "cell_type": "code",
   "execution_count": null,
   "id": "429e72a0-b23b-4700-aace-e50c467bc9ee",
   "metadata": {},
   "outputs": [],
   "source": []
  },
  {
   "cell_type": "code",
   "execution_count": null,
   "id": "e78dd4d9-68bc-47ce-ba59-50f2237617de",
   "metadata": {},
   "outputs": [],
   "source": []
  },
  {
   "cell_type": "code",
   "execution_count": null,
   "id": "22be5b14-1386-418a-af47-12bef5faf840",
   "metadata": {},
   "outputs": [],
   "source": []
  },
  {
   "cell_type": "code",
   "execution_count": null,
   "id": "05cbc4e5-fd73-4840-a7cb-ee8045e27d44",
   "metadata": {},
   "outputs": [],
   "source": []
  },
  {
   "cell_type": "code",
   "execution_count": null,
   "id": "36dd96e0-fcdd-4410-9ff8-e01aedfeab8a",
   "metadata": {},
   "outputs": [],
   "source": []
  },
  {
   "cell_type": "code",
   "execution_count": null,
   "id": "88b3aadc-4a16-43a9-aa24-3eff90dc42b6",
   "metadata": {},
   "outputs": [],
   "source": []
  },
  {
   "cell_type": "code",
   "execution_count": null,
   "id": "9fa126f2-4874-46a9-90f0-9968f7beb75f",
   "metadata": {},
   "outputs": [],
   "source": []
  },
  {
   "cell_type": "code",
   "execution_count": null,
   "id": "e10afa31-2e4b-44f1-b828-368b4ecf210b",
   "metadata": {},
   "outputs": [],
   "source": []
  },
  {
   "cell_type": "code",
   "execution_count": null,
   "id": "4465c838-b66c-41ea-8dbf-ad2f9d27a121",
   "metadata": {},
   "outputs": [],
   "source": []
  },
  {
   "cell_type": "code",
   "execution_count": 80,
   "id": "71455ccf-e7e6-4499-83af-14ca9510d94d",
   "metadata": {},
   "outputs": [],
   "source": []
  },
  {
   "cell_type": "markdown",
   "id": "5db8d57d-7c6c-4c6d-9b5a-bb66e45b3835",
   "metadata": {},
   "source": [
    "**Arabert** could have a greet benefit to extract features from tweets.\n",
    "\n",
    "Howevere, It could have more than 15 hours to process the df. \n",
    "\n",
    "So I decided to go without Arabert\n"
   ]
  },
  {
   "cell_type": "code",
   "execution_count": 123,
   "id": "6a73c965-fe2d-4fb0-87d7-d56a805d269a",
   "metadata": {},
   "outputs": [
    {
     "data": {
      "text/plain": [
       "['هاي', 'هال', '##و']"
      ]
     },
     "execution_count": 123,
     "metadata": {},
     "output_type": "execute_result"
    }
   ],
   "source": [
    "'''\n",
    "from transformers import TFAutoModel\n",
    "from transformers import AutoTokenizer\n",
    "model_name= 'aubmindlab/bert-base-arabertv02'  \n",
    "model=TFAutoModel.from_pretrained(model_name)\n",
    "tokenizer =AutoTokenizer.from_pretrained(model_name) \n",
    "example = 'هاي هالو'\n",
    "tokenizer.tokenize(example)\n",
    "inputs = tokenizer.encode_plus(example ,return_tensors='tf')\n",
    "inputs\n",
    "outputs = model(inputs['input_ids'],inputs['attention_mask'],inputs['token_type_ids'])\n",
    "outputs[0]\n"
   ]
  },
  {
   "cell_type": "code",
   "execution_count": null,
   "id": "d2a2b14d-9505-4aea-861e-cc20bdaa6749",
   "metadata": {},
   "outputs": [],
   "source": []
  },
  {
   "cell_type": "code",
   "execution_count": null,
   "id": "a6a06031-5bd8-4f9d-84d1-fc11799d2e43",
   "metadata": {},
   "outputs": [],
   "source": []
  },
  {
   "cell_type": "code",
   "execution_count": null,
   "id": "ef7ae28f-01bd-4774-bc7f-8b0a5eb0111e",
   "metadata": {},
   "outputs": [],
   "source": []
  },
  {
   "cell_type": "code",
   "execution_count": null,
   "id": "5348daaa-79d8-4a00-a931-e0526a147601",
   "metadata": {},
   "outputs": [],
   "source": []
  },
  {
   "cell_type": "code",
   "execution_count": null,
   "id": "4b04410f-f71f-4fca-bf8d-2b0ae2a63eb2",
   "metadata": {},
   "outputs": [],
   "source": []
  },
  {
   "cell_type": "code",
   "execution_count": null,
   "id": "0b9b211f-0030-434a-982a-9e481172b419",
   "metadata": {},
   "outputs": [],
   "source": []
  },
  {
   "cell_type": "code",
   "execution_count": 46,
   "id": "673bae39-f3ef-46c0-8236-b11f0cfd050d",
   "metadata": {},
   "outputs": [],
   "source": []
  },
  {
   "cell_type": "markdown",
   "id": "8794e544-be41-4b70-8b9f-9beefac96412",
   "metadata": {},
   "source": [
    "Using Pickle to save the label encoder"
   ]
  },
  {
   "cell_type": "code",
   "execution_count": 35,
   "id": "00b0fd54-304c-4b4d-a2e1-cd65dc86d82a",
   "metadata": {},
   "outputs": [],
   "source": [
    "import pickle\n",
    "\n",
    "with open(\"1st_encoder\", \"wb\") as f: \n",
    "    pickle.dump(label_encoder, f)\n",
    "    \n",
    "\n"
   ]
  },
  {
   "cell_type": "code",
   "execution_count": null,
   "id": "9a43c795-6e70-4aef-b90c-afe5e7f6a3f7",
   "metadata": {},
   "outputs": [],
   "source": []
  },
  {
   "cell_type": "code",
   "execution_count": 42,
   "id": "c577352c-0363-41ad-88c4-1e8ca01ce51f",
   "metadata": {},
   "outputs": [],
   "source": [
    "with open(\"1st_encoder\", \"rb\") as f: \n",
    "    label_encoder_trial = pickle.load(f) "
   ]
  },
  {
   "cell_type": "code",
   "execution_count": null,
   "id": "d8472789-984a-4045-b1f4-b9937dd26704",
   "metadata": {},
   "outputs": [],
   "source": []
  },
  {
   "cell_type": "code",
   "execution_count": 45,
   "id": "1fbcefbf-fbb7-4ddc-b3c0-f9a408425543",
   "metadata": {},
   "outputs": [],
   "source": []
  },
  {
   "cell_type": "code",
   "execution_count": 46,
   "id": "b72a12af-81d1-4c70-a845-3d27de98f4f7",
   "metadata": {},
   "outputs": [],
   "source": []
  },
  {
   "cell_type": "code",
   "execution_count": null,
   "id": "c9f20297-b550-4b2f-947c-e84412f22c4d",
   "metadata": {},
   "outputs": [],
   "source": []
  }
 ],
 "metadata": {
  "kernelspec": {
   "display_name": "Python 3",
   "language": "python",
   "name": "python3"
  },
  "language_info": {
   "codemirror_mode": {
    "name": "ipython",
    "version": 3
   },
   "file_extension": ".py",
   "mimetype": "text/x-python",
   "name": "python",
   "nbconvert_exporter": "python",
   "pygments_lexer": "ipython3",
   "version": "3.8.11"
  }
 },
 "nbformat": 4,
 "nbformat_minor": 5
}
